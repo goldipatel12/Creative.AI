{
  "nbformat": 4,
  "nbformat_minor": 0,
  "metadata": {
    "accelerator": "GPU",
    "colab": {
      "name": "Creative AI.ipynb",
      "provenance": [],
      "collapsed_sections": []
    },
    "kernelspec": {
      "display_name": "Python 3",
      "name": "python3"
    }
  },
  "cells": [
    {
      "cell_type": "markdown",
      "metadata": {
        "id": "JnKRe0p9h35K"
      },
      "source": [
        "# TASK #1: UNDERSTAND THE PROBLEM STATEMENT AND BUSINESS CASE  "
      ]
    },
    {
      "cell_type": "markdown",
      "metadata": {
        "id": "fr6pOOh0hHaj"
      },
      "source": [
        "# TASK #2: IMPORT MODEL WITH PRE-TRAINED WEIGHTS"
      ]
    },
    {
      "cell_type": "code",
      "metadata": {
        "id": "QqPjanlXkVzi"
      },
      "source": [
        "import tensorflow as tf\n",
        "\n",
        "import pandas as pd\n",
        "import numpy as np\n",
        "import matplotlib.pyplot as plt\n",
        "import seaborn as sns\n",
        "import random \n",
        "import os\n",
        "import PIL.Image\n",
        "import cv2\n",
        "import random\n",
        "from PIL import Image # Python Image Library is a library that adds support for opening, manipulating, and saving many different\n",
        "                      # image file formats"
      ],
      "execution_count": null,
      "outputs": []
    },
    {
      "cell_type": "code",
      "metadata": {
        "id": "BFvyg3SPHpj8"
      },
      "source": [
        "tf.__version__"
      ],
      "execution_count": null,
      "outputs": []
    },
    {
      "cell_type": "code",
      "metadata": {
        "id": "dtQHkJt8HoaT"
      },
      "source": [
        "from google.colab import drive\n",
        "drive.mount('/content/drive')"
      ],
      "execution_count": null,
      "outputs": []
    },
    {
      "cell_type": "code",
      "metadata": {
        "id": "YmH2HBHiGtP1"
      },
      "source": [
        "# Load trained inceptionNet model, for more information on Transfer Learning, check previous case studies\n",
        "base_model = tf.keras.applications.InceptionV3(include_top = False, weights = 'imagenet')"
      ],
      "execution_count": null,
      "outputs": []
    },
    {
      "cell_type": "markdown",
      "metadata": {
        "id": "J9mGAe_dC5Q7"
      },
      "source": [
        "MINI CHALLENGE #1: \n",
        "- How many total parameters exist in inceptionNet V3?\n",
        "- Set include top = True and indicate how many total parameters exist now."
      ]
    },
    {
      "cell_type": "code",
      "metadata": {
        "id": "V2_1Hu9RO7NZ"
      },
      "source": [
        "base_model.summary()"
      ],
      "execution_count": null,
      "outputs": []
    },
    {
      "cell_type": "markdown",
      "metadata": {
        "id": "jWb45OshSDsr"
      },
      "source": [
        "# TASK #3: GET AN IMAGE AND PRE-PROCESS IT"
      ]
    },
    {
      "cell_type": "code",
      "metadata": {
        "id": "2MQ7wy4q5J2e"
      },
      "source": [
        "# Open the first image\n",
        "# Source: https://www.pxfuel.com/en/free-photo-xxgfs\n",
        "img_1 = Image.open(\"/content/drive/My Drive/CreativeAI_Hack/Creative+AI+Dataset/Creative AI Dataset/mars.jpg\")\n",
        "\n",
        "# Open the second image\n",
        "# Source: https://commons.wikimedia.org/wiki/File:Georges_Garen_embrasement_tour_Eiffel.jpg\n",
        "img_2 = Image.open('/content/drive/My Drive/CreativeAI_Hack/Creative+AI+Dataset/Creative AI Dataset/eiffel.jpg')\n",
        "\n",
        "# Blend the two images\n",
        "\n",
        "image = Image.blend(img_1, img_2, 0.5) # alpha --> The interpolation alpha factor. If alpha is 0.0, a copy of the first image is returned.\n",
        "# If alpha is 1.0, a copy of the second image is returned. \n",
        "\n",
        "# Save the blended image\n",
        "image.save(\"img_0.jpg\")"
      ],
      "execution_count": null,
      "outputs": []
    },
    {
      "cell_type": "code",
      "metadata": {
        "id": "sIy4GhP45yuT"
      },
      "source": [
        "# Load the image\n",
        "Sample_Image = tf.keras.preprocessing.image.load_img('img_0.jpg')"
      ],
      "execution_count": null,
      "outputs": []
    },
    {
      "cell_type": "code",
      "metadata": {
        "id": "Mzs7ZirEJdkZ"
      },
      "source": [
        "Sample_Image"
      ],
      "execution_count": null,
      "outputs": []
    },
    {
      "cell_type": "code",
      "metadata": {
        "id": "X7EdBGZPjpdm"
      },
      "source": [
        "# Get the shape of the image\n",
        "np.shape(Sample_Image)"
      ],
      "execution_count": null,
      "outputs": []
    },
    {
      "cell_type": "code",
      "metadata": {
        "id": "tB1IRmzVJuSL"
      },
      "source": [
        "# Check out the type of the image\n",
        "type(Sample_Image)"
      ],
      "execution_count": null,
      "outputs": []
    },
    {
      "cell_type": "code",
      "metadata": {
        "id": "pnpbyRXV-DmQ"
      },
      "source": [
        "# Convert to numpy array\n",
        "Sample_Image = tf.keras.preprocessing.image.img_to_array(Sample_Image)\n",
        "\n",
        "# Sample_Image = np.array(Sample_Image)"
      ],
      "execution_count": null,
      "outputs": []
    },
    {
      "cell_type": "code",
      "metadata": {
        "id": "bZH-uBrrKMg_"
      },
      "source": [
        "# Confirm that the image is converted to Numpy array\n",
        "type(Sample_Image)"
      ],
      "execution_count": null,
      "outputs": []
    },
    {
      "cell_type": "code",
      "metadata": {
        "id": "LopInguJKOj5"
      },
      "source": [
        "# Obtain the max and min values\n",
        "print('min pixel values = {}, max pixel values = {}'.format(Sample_Image.min(), Sample_Image.max()))"
      ],
      "execution_count": null,
      "outputs": []
    },
    {
      "cell_type": "code",
      "metadata": {
        "id": "NUjlzcIBMAGS"
      },
      "source": [
        "# Normalize the input image\n",
        "Sample_Image = np.array(Sample_Image)/255.0\n",
        "Sample_Image.shape"
      ],
      "execution_count": null,
      "outputs": []
    },
    {
      "cell_type": "code",
      "metadata": {
        "id": "dffJyzy6KyFG"
      },
      "source": [
        "# Let's verify normalized images values!\n",
        "print('min pixel values = {}, max pixel values = {}'.format(Sample_Image.min(), Sample_Image.max()))"
      ],
      "execution_count": null,
      "outputs": []
    },
    {
      "cell_type": "code",
      "metadata": {
        "id": "6dpwAwVDPIKO"
      },
      "source": [
        "Sample_Image = tf.expand_dims(Sample_Image, axis = 0)"
      ],
      "execution_count": null,
      "outputs": []
    },
    {
      "cell_type": "code",
      "metadata": {
        "id": "YSY7HAHjPKNH"
      },
      "source": [
        "np.shape(Sample_Image)"
      ],
      "execution_count": null,
      "outputs": []
    },
    {
      "cell_type": "markdown",
      "metadata": {
        "id": "s5F2mIIZwvjY"
      },
      "source": [
        "MINI CHALLENGE #2: \n",
        "- Perform the opposite of expand dimension \n",
        "- Plot the image"
      ]
    },
    {
      "cell_type": "code",
      "metadata": {
        "id": "0HZEtUT-xF0J"
      },
      "source": [
        ""
      ],
      "execution_count": null,
      "outputs": []
    },
    {
      "cell_type": "code",
      "metadata": {
        "id": "Bt3_WsRJ7Bi-"
      },
      "source": [
        ""
      ],
      "execution_count": null,
      "outputs": []
    },
    {
      "cell_type": "markdown",
      "metadata": {
        "id": "Bh5YVgd3NJkz"
      },
      "source": [
        "# TASK #4: RUN THE PRETRAINED MODEL AND EXPLORE ACTIVATIONS"
      ]
    },
    {
      "cell_type": "markdown",
      "metadata": {
        "id": "8CVnUcoEz4sp"
      },
      "source": [
        "# NOTES:\n",
        "- Select a layer and attempt at maximizing the loss which is the activations generated by the layer of interest.\n",
        "- We can select any layer we choose, early layers generate simple features such as edges and deep layers generate more complex features such as entire face, car or tree.\n",
        "- Inception network has multiple concatenated layers named 'mixed' "
      ]
    },
    {
      "cell_type": "code",
      "metadata": {
        "id": "9vJzenNu71J8"
      },
      "source": [
        "base_model.summary()"
      ],
      "execution_count": null,
      "outputs": []
    },
    {
      "cell_type": "code",
      "metadata": {
        "id": "b3cxzeLpGtMH"
      },
      "source": [
        "# Maximize the activations of these layers\n",
        "\n",
        "names = ['mixed3', 'mixed5', 'mixed7']\n",
        "\n",
        "# names = ['mixed3']\n",
        "\n",
        "layers = [base_model.get_layer(name).output for name in names]\n",
        "\n",
        "# Create the feature extraction model\n",
        "deepdream_model = tf.keras.Model(inputs = base_model.input, outputs = layers)"
      ],
      "execution_count": null,
      "outputs": []
    },
    {
      "cell_type": "code",
      "metadata": {
        "id": "pKtOzXEAEdgK"
      },
      "source": [
        "deepdream_model.summary()"
      ],
      "execution_count": null,
      "outputs": []
    },
    {
      "cell_type": "code",
      "metadata": {
        "id": "Uf2tCdV5Nsez"
      },
      "source": [
        "# Let's run the model by feeding in our input image and taking a look at the activations \"Neuron outputs\"\n",
        "activations = deepdream_model(Sample_Image)\n",
        "activations"
      ],
      "execution_count": null,
      "outputs": []
    },
    {
      "cell_type": "code",
      "metadata": {
        "id": "a-liG_NweWcv"
      },
      "source": [
        "len(activations)"
      ],
      "execution_count": null,
      "outputs": []
    },
    {
      "cell_type": "markdown",
      "metadata": {
        "id": "HPy-ST-BONCK"
      },
      "source": [
        "MINI CHALLENGE #3: \n",
        "- Generate the activations for a deeper layer such as 'mixed8' and 'mixed9'.\n",
        "- What is the size of the generated activations?\n",
        "- Combine 4 activations from early and deeper layers such as 'mixed3', 'mixed5', 'mixed8', 'mixed9'\n"
      ]
    },
    {
      "cell_type": "code",
      "metadata": {
        "id": "4K7IpNQxOMDO"
      },
      "source": [
        ""
      ],
      "execution_count": null,
      "outputs": []
    },
    {
      "cell_type": "markdown",
      "metadata": {
        "id": "H38yzWMAn7hu"
      },
      "source": [
        "# TASK #5: UNDERSTAND HOW DEEP DREAM ALGORITHM WORKS "
      ]
    },
    {
      "cell_type": "markdown",
      "metadata": {
        "id": "I2FN_uwz5DqT"
      },
      "source": [
        "# TASK #6: UNDERSTAND HOW TO PERFORM GRADIENT CALCULATION AND TF.GRADIENTTAPE()"
      ]
    },
    {
      "cell_type": "markdown",
      "metadata": {
        "id": "614ia_UW4ENa"
      },
      "source": [
        "- tf.GradientTape() is used to record operations for automatic differentiation\n",
        "- For example, Let's assume we have the following functions y = x^3. \n",
        "- The gradient at x = 2 can be computed as follows: dy_dx = 3 * x^2 = 3 * 2^2 = 12. \n"
      ]
    },
    {
      "cell_type": "code",
      "metadata": {
        "id": "WQoqmrhZYWtn"
      },
      "source": [
        "x = tf.constant(2.0)"
      ],
      "execution_count": null,
      "outputs": []
    },
    {
      "cell_type": "code",
      "metadata": {
        "id": "vsnKsx3d3pXV"
      },
      "source": [
        "with tf.GradientTape() as g:\n",
        "  g.watch(x)\n",
        "  y = x * x * x\n",
        "dy_dx = g.gradient(y, x) # Will compute to 12"
      ],
      "execution_count": null,
      "outputs": []
    },
    {
      "cell_type": "code",
      "metadata": {
        "id": "w1CPH8E43ylF"
      },
      "source": [
        "dy_dx"
      ],
      "execution_count": null,
      "outputs": []
    },
    {
      "cell_type": "markdown",
      "metadata": {
        "id": "gQkTP3gAxg-c"
      },
      "source": [
        "MINI CHALLENGE #4: \n",
        "- Using tf.GradientTape(), calculate the gradient of y = x^4 + x^5 at x = 5\n",
        "- Verify your answer by manually differentation the equation"
      ]
    },
    {
      "cell_type": "code",
      "metadata": {
        "id": "jUiZrxKEIuWT"
      },
      "source": [
        "x = tf.constant(5.0)"
      ],
      "execution_count": null,
      "outputs": []
    },
    {
      "cell_type": "code",
      "metadata": {
        "id": "2EpHmkPNxdCL"
      },
      "source": [
        "with tf.GradientTape() as g:\n",
        "  g.watch(x)\n",
        "  y = (x * x * x * x) + (x * x * x * x * x)  \n",
        "dy_dx = g.gradient(y, x) \n",
        "dy_dx"
      ],
      "execution_count": null,
      "outputs": []
    },
    {
      "cell_type": "markdown",
      "metadata": {
        "id": "vZcbcENxu_45"
      },
      "source": [
        "# TASK #7: IMPLEMENT DEEP DREAM ALGORITHM - STEP #1 LOSS CALCULATION"
      ]
    },
    {
      "cell_type": "markdown",
      "metadata": {
        "id": "daBEmuXpYARn"
      },
      "source": [
        "- CREDITS: The DeepDream Code has been adopted from Keras Documentation:\n",
        "- https://www.tensorflow.org/tutorials/generative/deepdream"
      ]
    },
    {
      "cell_type": "code",
      "metadata": {
        "id": "65Nc3SVZRZCF"
      },
      "source": [
        "# Since the cal_closs function includes expand dimension, let's squeeze the image (reduce_dims)\n",
        "Sample_Image.shape"
      ],
      "execution_count": null,
      "outputs": []
    },
    {
      "cell_type": "code",
      "metadata": {
        "id": "qyC4T7y7RQxa"
      },
      "source": [
        "Sample_Image = tf.squeeze(Sample_Image, axis = 0)"
      ],
      "execution_count": null,
      "outputs": []
    },
    {
      "cell_type": "code",
      "metadata": {
        "id": "ZEW6nOUtRcVV"
      },
      "source": [
        "Sample_Image.shape"
      ],
      "execution_count": null,
      "outputs": []
    },
    {
      "cell_type": "code",
      "metadata": {
        "id": "iq1BtOp3GPIG"
      },
      "source": [
        "def calc_loss(image, model):\n",
        "# Function used for loss calculations\n",
        "# It works by feedforwarding the input image through the network and generate activations\n",
        "# Then obtain the average and sum of those outputs\n",
        "\n",
        "  img_batch = tf.expand_dims(image, axis=0) # Convert into batch format\n",
        "  layer_activations = model(img_batch) # Run the model\n",
        "  print('ACTIVATION VALUES (LAYER OUTPUT) =\\n', layer_activations)\n",
        "  # print('ACTIVATION SHAPE =\\n', np.shape(layer_activations))\n",
        "\n",
        "  losses = [] # accumulator to hold all the losses\n",
        "  for act in layer_activations:\n",
        "    loss = tf.math.reduce_mean(act) # calculate mean of each activation \n",
        "    losses.append(loss)\n",
        "  \n",
        "  print('LOSSES (FROM MULTIPLE ACTIVATION LAYERS) = ', losses)\n",
        "  print('LOSSES SHAPE (FROM MULTIPLE ACTIVATION LAYERS) = ', np.shape(losses))\n",
        "  print('SUM OF ALL LOSSES (FROM ALL SELECTED LAYERS)= ', tf.reduce_sum(losses))\n",
        "\n",
        "  return  tf.reduce_sum(losses) # Calculate sum "
      ],
      "execution_count": null,
      "outputs": []
    },
    {
      "cell_type": "code",
      "metadata": {
        "id": "mIgt-O8WGPDd"
      },
      "source": [
        "loss = calc_loss(tf.Variable(Sample_Image), deepdream_model)"
      ],
      "execution_count": null,
      "outputs": []
    },
    {
      "cell_type": "code",
      "metadata": {
        "id": "YVdP36WrH_Vj"
      },
      "source": [
        "loss # Sum up the losses from both activations"
      ],
      "execution_count": null,
      "outputs": []
    },
    {
      "cell_type": "markdown",
      "metadata": {
        "id": "rOMSKpAtztK8"
      },
      "source": [
        "MINI CHALLENGE #5: \n",
        "- What is the sum of all losses when 'mixed3' layer is the only layer used for activations generation?"
      ]
    },
    {
      "cell_type": "code",
      "metadata": {
        "id": "DRC01ey2zsK4"
      },
      "source": [
        ""
      ],
      "execution_count": null,
      "outputs": []
    },
    {
      "cell_type": "markdown",
      "metadata": {
        "id": "48Sz8_stSHW3"
      },
      "source": [
        "# TASK #8: IMPLEMENT DEEP DREAM ALGORITHM - STEP #2 (CALCULATE THE GRADIENT)"
      ]
    },
    {
      "cell_type": "markdown",
      "metadata": {
        "id": "YCLZJTMO1EpN"
      },
      "source": [
        "- In this step, we will rely on the loss that has been calculated in the previous step and calculate the gradient with respect to the given input image and then add it to the input original image. \n",
        "- Doing so iteratively will result in feeding images that continiously and increasingly excite the neurons and generate more dreamy like images!\n"
      ]
    },
    {
      "cell_type": "code",
      "metadata": {
        "id": "Vr4k5RStOKLi"
      },
      "source": [
        "# When you annotate a function with tf.function, the function can be called like any other python defined function. \n",
        "# The benefit is that it will be compiled into a graph so it will be much faster and could be executed over TPU/GPU\n",
        "\n",
        "@tf.function\n",
        "def deepdream(model, image, step_size):\n",
        "    with tf.GradientTape() as tape:\n",
        "      # This needs gradients relative to `img`\n",
        "      # `GradientTape` only watches `tf.Variable`s by default\n",
        "      tape.watch(image)\n",
        "      loss = calc_loss(image, model) # call the function that calculate the loss \n",
        "\n",
        "    # Calculate the gradient of the loss with respect to the pixels of the input image.\n",
        "    # The syntax is as follows: dy_dx = g.gradient(y, x) \n",
        "    gradients = tape.gradient(loss, image)\n",
        "\n",
        "    print('GRADIENTS =\\n', gradients)\n",
        "    print('GRADIENTS SHAPE =\\n', np.shape(gradients))\n",
        "\n",
        "    # tf.math.reduce_std computes the standard deviation of elements across dimensions of a tensor\n",
        "    gradients /= tf.math.reduce_std(gradients)  \n",
        "\n",
        "    # In gradient ascent, the \"loss\" is maximized so that the input image increasingly \"excites\" the layers.\n",
        "    # You can update the image by directly adding the gradients (because they're the same shape!)\n",
        "    image = image + gradients * step_size\n",
        "    image = tf.clip_by_value(image, -1, 1)\n",
        "\n",
        "    return loss, image"
      ],
      "execution_count": null,
      "outputs": []
    },
    {
      "cell_type": "code",
      "metadata": {
        "id": "kQouIa0Ragzr"
      },
      "source": [
        "def run_deep_dream_simple(model, image, steps = 100, step_size = 0.01):\n",
        "  # Convert from uint8 to the range expected by the model.\n",
        "  image = tf.keras.applications.inception_v3.preprocess_input(image)\n",
        "\n",
        "  for step in range(steps):\n",
        "    loss, image = deepdream(model, image, step_size)\n",
        "    \n",
        "    if step % 100 == 0:\n",
        "      plt.figure(figsize=(12,12))\n",
        "      plt.imshow(deprocess(image))\n",
        "      plt.show()\n",
        "      print (\"Step {}, loss {}\".format(step, loss))\n",
        "\n",
        "  # clear_output(wait=True)\n",
        "  plt.figure(figsize=(12,12))\n",
        "  plt.imshow(deprocess(image))\n",
        "  plt.show()\n",
        "\n",
        "  return deprocess(image)"
      ],
      "execution_count": null,
      "outputs": []
    },
    {
      "cell_type": "code",
      "metadata": {
        "id": "UG-50Tm2axFu"
      },
      "source": [
        "def deprocess(image):\n",
        "  image = 255*(image + 1.0)/2.0\n",
        "  return tf.cast(image, tf.uint8)\n"
      ],
      "execution_count": null,
      "outputs": []
    },
    {
      "cell_type": "code",
      "metadata": {
        "id": "qg3oohvSa6HK"
      },
      "source": [
        "Sample_Image.shape"
      ],
      "execution_count": null,
      "outputs": []
    },
    {
      "cell_type": "code",
      "metadata": {
        "id": "-7OqBQu8akWT"
      },
      "source": [
        "# Let's Load the image again and convert it to Numpy array \n",
        "Sample_Image = np.array(tf.keras.preprocessing.image.load_img('img_0.jpg'))\n",
        "dream_img = run_deep_dream_simple(model = deepdream_model, image = Sample_Image, steps = 4000, step_size = 0.001)\n"
      ],
      "execution_count": null,
      "outputs": []
    },
    {
      "cell_type": "markdown",
      "metadata": {
        "id": "qn1A9cTpFc-t"
      },
      "source": [
        "# TASK #9: (VIDEO) APPLY DEEPDREAM TO GENERATE A SERIES OF IMAGES"
      ]
    },
    {
      "cell_type": "code",
      "metadata": {
        "id": "C9ubTEFTK_Zv"
      },
      "source": [
        "image = tf.keras.preprocessing.image.load_img(\"img_0.jpg\")"
      ],
      "execution_count": null,
      "outputs": []
    },
    {
      "cell_type": "code",
      "metadata": {
        "id": "xZXtwuZnLAMB"
      },
      "source": [
        "plt.imshow(image)"
      ],
      "execution_count": null,
      "outputs": []
    },
    {
      "cell_type": "code",
      "metadata": {
        "id": "O6YEv4BEFmqs"
      },
      "source": [
        "# Name of the folder\n",
        "dream_name = 'mars_eiffel'"
      ],
      "execution_count": null,
      "outputs": []
    },
    {
      "cell_type": "code",
      "metadata": {
        "id": "zAuR_5F8QsV3"
      },
      "source": [
        "# Blended image dimension\n",
        "\n",
        "x_size = 910 # larger the image longer is going to take to fetch the frames \n",
        "y_size = 605"
      ],
      "execution_count": null,
      "outputs": []
    },
    {
      "cell_type": "code",
      "metadata": {
        "id": "6-ueNUQ1Fu1f"
      },
      "source": [
        "# Define Counters \n",
        "created_count = 0\n",
        "max_count = 50"
      ],
      "execution_count": null,
      "outputs": []
    },
    {
      "cell_type": "code",
      "metadata": {
        "id": "C__-w3lYVbjO"
      },
      "source": [
        "# This helper function loads an image and returns it as a numpy array of floating points\n",
        "\n",
        "def load_image(filename):\n",
        "    image = PIL.Image.open(filename)\n",
        "    return np.float32(image)"
      ],
      "execution_count": null,
      "outputs": []
    },
    {
      "cell_type": "code",
      "metadata": {
        "colab": {
          "background_save": true
        },
        "id": "2zrAdxiEFu3u"
      },
      "source": [
        "for i in range(0, 50):\n",
        "    # Make sure to create a new folder entitled 'mars_eiffel' and place img_0 in it\n",
        "    # Get into the dream directory and look for the number of images and then figure out what is the latest image. Hence this \n",
        "    # image we are going to start with and let it dream on and on\n",
        "     \n",
        "    if os.path.isfile('/content/drive/My Drive/CreativeAI_Hack/{}/img_{}.jpg'.format(dream_name, i+1)):\n",
        "        print(\"{} present already, continue fetching the frames...\".format(i+1))\n",
        "        \n",
        "    else:\n",
        "        # Call the load image funtion\n",
        "        img_result = load_image(r'/content/drive/My Drive/CreativeAI_Hack/{}/img_{}.jpg'.format(dream_name, i))\n",
        "\n",
        "    \n",
        "        # Zoom the image \n",
        "        x_zoom = 2 # this indicates how quick the zoom is \n",
        "        y_zoom = 1\n",
        "        \n",
        "        # Chop off the edges of the image and resize the image back to the original shape. This gives the visual changes of a zoom\n",
        "        img_result = img_result[0+x_zoom : y_size-y_zoom, 0+y_zoom : x_size-x_zoom]\n",
        "        img_result = cv2.resize(img_result, (x_size, y_size))\n",
        "        \n",
        "        # Adjust the RGB value of the image\n",
        "        img_result[:, :, 0] += 2  # red\n",
        "        img_result[:, :, 1] += 2  # green\n",
        "        img_result[:, :, 2] += 2  # blue\n",
        "        \n",
        "        # Deep dream model  \n",
        "        img_result = run_deep_dream_simple(model = deepdream_model, image = img_result, steps = 500, step_size = 0.001)\n",
        "        \n",
        "        # Clip the image, convert the datatype of the array, and then convert to an actual image. \n",
        "        img_result = np.clip(img_result, 0.0, 255.0)\n",
        "        img_result = img_result.astype(np.uint8)\n",
        "        result = PIL.Image.fromarray(img_result, mode='RGB')\n",
        "        \n",
        "        # Save all the frames in the dream location\n",
        "        result.save(r'/content/drive/My Drive/CreativeAI_Hack/{}/img_{}.jpg'.format(dream_name, i+1))\n",
        "        \n",
        "        created_count += 1\n",
        "        if created_count > max_count:\n",
        "            break"
      ],
      "execution_count": null,
      "outputs": []
    },
    {
      "cell_type": "markdown",
      "metadata": {
        "id": "R8oN2QaAGVT2"
      },
      "source": [
        "# TASK #10: (VIDEO) CREATE A VIDEO FROM ALL THE FRAMES"
      ]
    },
    {
      "cell_type": "code",
      "metadata": {
        "id": "cUHO-rGKrvxX"
      },
      "source": [
        "from google.colab import files\n",
        "uploaded = files.upload()"
      ],
      "execution_count": null,
      "outputs": []
    },
    {
      "cell_type": "code",
      "metadata": {
        "id": "zSXpntx-ryHD"
      },
      "source": [
        "# Unzip the folder\n",
        "\n",
        "from zipfile import ZipFile\n",
        "file_name = \"mars_eiffel.zip\"\n",
        "\n",
        "with ZipFile(file_name, 'r') as zip:\n",
        "  zip.extractall()\n",
        "  print('Done')"
      ],
      "execution_count": null,
      "outputs": []
    },
    {
      "cell_type": "code",
      "metadata": {
        "id": "nlU4BJ2fFu-a"
      },
      "source": [
        "# Path of all the frames\n",
        "\n",
        "dream_path = 'mars_eiffel'"
      ],
      "execution_count": null,
      "outputs": []
    },
    {
      "cell_type": "code",
      "metadata": {
        "id": "Gdcu-z53FvBC"
      },
      "source": [
        "# Define the codec and create VideoWriter object \n",
        "# Download FFmeg \n",
        "\n",
        "fourcc = cv2.VideoWriter_fourcc(*'XVID') # FourCC is a 4-byte code used to specify the video codec\n",
        "\n",
        "out = cv2.VideoWriter('deepdreamvideo.avi', fourcc , 5.0, (910, 605)) # Specify the fourCC, frames per second (fps),\n",
        "                                                                            # and frame size\n",
        "# The frames per second value is depends on few important things\n",
        "# 1. The number of frames we have created. Less number of frames brings small fps\n",
        "# 2. The larger the image the bigger the fps value. For example, 1080 pixel image can bring 60 fps "
      ],
      "execution_count": null,
      "outputs": []
    },
    {
      "cell_type": "code",
      "metadata": {
        "id": "ceElmedwFu8c"
      },
      "source": [
        "for i in range(9999999999999):\n",
        "    \n",
        "    # Get into the dream directory and looks for the number of images and then figure out what is the latest image. Hence with \n",
        "    # this image we are going to start with and let it dream on and on\n",
        "    if os.path.isfile('mars_eiffel/img_{}.jpg'.format(i+1)):\n",
        "        pass\n",
        "    # Figure out how long the dream is \n",
        "    else:\n",
        "        dream_length = i\n",
        "        break"
      ],
      "execution_count": null,
      "outputs": []
    },
    {
      "cell_type": "code",
      "metadata": {
        "id": "meJ49RlyYjKW"
      },
      "source": [
        "dream_length"
      ],
      "execution_count": null,
      "outputs": []
    },
    {
      "cell_type": "code",
      "metadata": {
        "id": "gTfzipi2GjBz"
      },
      "source": [
        "for i in range(dream_length):\n",
        "    \n",
        "    # Build the frames of cv2.VideoWriter\n",
        "    img_path = os.path.join(dream_path,'img_{}.jpg'.format(i)) # join the dream path\n",
        "    \n",
        "    print(img_path) # print the image path \n",
        "    \n",
        "    frame = cv2.imread(img_path)\n",
        "    out.write(frame)\n",
        "\n",
        "out.release()"
      ],
      "execution_count": null,
      "outputs": []
    },
    {
      "cell_type": "markdown",
      "metadata": {
        "id": "J7pUBTXMw75-"
      },
      "source": [
        "# GREAT JOB!"
      ]
    },
    {
      "cell_type": "markdown",
      "metadata": {
        "id": "XClSC_faDntC"
      },
      "source": [
        "# MINI CHALLENGE SOLUTIONS"
      ]
    },
    {
      "cell_type": "markdown",
      "metadata": {
        "id": "VMa1lgsvDd59"
      },
      "source": [
        "MINI CHALLENGE #1: \n",
        "- How many total parameters exist in inceptionNet V3?\n",
        "- Set include top = True and indicate how many total parameters exist now."
      ]
    },
    {
      "cell_type": "code",
      "metadata": {
        "id": "-CfSvcJqDeoy"
      },
      "source": [
        "Total Params = 23,851,784 (include Top = True)\n",
        "Total params: 21,802,784 (include Top = False)\n"
      ],
      "execution_count": null,
      "outputs": []
    },
    {
      "cell_type": "markdown",
      "metadata": {
        "id": "udOdEbWOw_XI"
      },
      "source": [
        "MINI CHALLENGE #2: "
      ]
    },
    {
      "cell_type": "code",
      "metadata": {
        "id": "LxYKrjkSw-pn"
      },
      "source": [
        "plt.imshow(np.squeeze(Sample_Image))"
      ],
      "execution_count": null,
      "outputs": []
    },
    {
      "cell_type": "markdown",
      "metadata": {
        "id": "Iz6l_MiYOhsB"
      },
      "source": [
        "MINI CHALLENGE #3: \n",
        "- Generate the activations for a deeper layer such as 'mixed8' and 'mixed9'.\n",
        "- What is the size of the generated activations?\n",
        "- Combine 4 activations from early and deeper layers such as 'mixed3', 'mixed5', 'mixed8', 'mixed9'"
      ]
    },
    {
      "cell_type": "code",
      "metadata": {
        "id": "r4hOkTf7EUUt"
      },
      "source": [
        "names = ['mixed8', 'mixed9']\n",
        "# shape=(1, 13, 21, 1280)\n",
        "names = ['mixed3', 'mixed5', 'mixed8', 'mixed9']"
      ],
      "execution_count": null,
      "outputs": []
    },
    {
      "cell_type": "markdown",
      "metadata": {
        "id": "fG8y6b4rzEnR"
      },
      "source": [
        "MINI CHALLENGE #4: \n",
        "- Using tf.GradientTape(), calculate the gradient of y = x^4 + x^5 at x = 5\n",
        "- Verify your answer by manually differentation the equation"
      ]
    },
    {
      "cell_type": "code",
      "metadata": {
        "id": "p3AC78Q4y9pV"
      },
      "source": [
        "x = tf.constant(5.0)\n",
        "with tf.GradientTape() as g:\n",
        "  g.watch(x)\n",
        "  y = (x * x * x * x) + (x * x * x * x * x)\n",
        "dy_dx = g.gradient(y, x) # Will compute to 12\n",
        "dy_dx"
      ],
      "execution_count": null,
      "outputs": []
    },
    {
      "cell_type": "code",
      "metadata": {
        "id": "Y84B37_XzKI0"
      },
      "source": [
        "# 500+3125 = 3625"
      ],
      "execution_count": null,
      "outputs": []
    },
    {
      "cell_type": "markdown",
      "metadata": {
        "id": "ru61OUfX0DZI"
      },
      "source": [
        "MINI CHALLENGE #5: \n",
        "- What is the sum of all losses when 'mixed3' layer is the only layer used for activations generation?"
      ]
    },
    {
      "cell_type": "code",
      "metadata": {
        "id": "Vv6CZy7S0Bn9"
      },
      "source": [
        "# <tf.Tensor: shape=(), dtype=float32, numpy=0.36584973>"
      ],
      "execution_count": null,
      "outputs": []
    }
  ]
}